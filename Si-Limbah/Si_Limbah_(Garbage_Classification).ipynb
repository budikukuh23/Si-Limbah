{
  "nbformat": 4,
  "nbformat_minor": 0,
  "metadata": {
    "colab": {
      "name": "Si-Limbah (Garbage Classification).ipynb",
      "provenance": [],
      "collapsed_sections": [],
      "toc_visible": true
    },
    "kernelspec": {
      "name": "python3",
      "display_name": "Python 3"
    },
    "language_info": {
      "name": "python"
    },
    "accelerator": "GPU"
  },
  "cells": [
    {
      "cell_type": "markdown",
      "metadata": {
        "id": "a56mKo9IbpGH"
      },
      "source": [
        "# Garbage Classification using post-training quantization (with TF2)"
      ]
    },
    {
      "cell_type": "markdown",
      "metadata": {
        "id": "JUu3M34TcFSI"
      },
      "source": [
        "This project uses TensorFlow 2 to create an garbage classification model and convert it to TensorFlow Lite using post-training quantization. Finally, we compile it for compatibility with the Edge TPU (available in [Coral devices](https://coral.ai/products/)).\n",
        "\n",
        "The model is based on a pre-trained version of MobileNet V2. We'll start by retraining only the classification layers, reusing MobileNet's pre-trained feature extractor layers. Then we'll fine-tune the model by updating weights in some of the feature extractor layers. This type of transfer learning is much faster than training the entire model from scratch.\n",
        "\n",
        "Once it's trained, we'll use post-training quantization to convert all parameters to int8 format, which reduces the model size and increases inferencing speed. This format is also required for compatibility on the Edge TPU. [documentation at coral.ai](https://coral.ai/docs/edgetpu/models-intro/)."
      ]
    },
    {
      "cell_type": "markdown",
      "metadata": {
        "id": "N2IYgAa3vVZX"
      },
      "source": [
        "<a href=\"https://colab.research.google.com/github/google-coral/tutorials/blob/master/retrain_classification_ptq_tf2.ipynb\" target=\"_parent\"><img src=\"https://colab.research.google.com/assets/colab-badge.svg\" alt=\"Open in Colab\"></a>\n",
        "&nbsp;&nbsp;&nbsp;&nbsp;\n",
        "<a href=\"https://github.com/google-coral/tutorials/blob/master/retrain_classification_ptq_tf2.ipynb\" target=\"_parent\"><img src=\"https://img.shields.io/static/v1?logo=GitHub&label=&color=333333&style=flat&message=View%20on%20GitHub\" alt=\"View in GitHub\"></a>\n"
      ]
    },
    {
      "cell_type": "markdown",
      "metadata": {
        "id": "5LrxMPlNdHDN"
      },
      "source": [
        "## Import the required libraries"
      ]
    },
    {
      "cell_type": "markdown",
      "metadata": {
        "id": "gMz8hGBfdRs_"
      },
      "source": [
        "In order to quantize both the input and output tensors, we need `TFLiteConverter` APIs that are available in TensorFlow r2.3 or higher:"
      ]
    },
    {
      "cell_type": "code",
      "metadata": {
        "colab": {
          "base_uri": "https://localhost:8080/"
        },
        "id": "j-NeJmlybnjd",
        "outputId": "01fda09d-d443-457f-f2a7-6c490f3c1d56"
      },
      "source": [
        "! pip install pyyaml h5py\n",
        "! pip install -q kaggle\n",
        "\n",
        "import tensorflow as tf\n",
        "assert float(tf.__version__[:3]) >= 2.3\n",
        "\n",
        "import os\n",
        "import numpy as np\n",
        "import matplotlib.pyplot as plt\n",
        "import zipfile\n",
        "\n",
        "vers1 = 'Tensorflow version: {}'.format(tf.__version__)\n",
        "vers2 = 'Numpy version: {}'.format(np.__version__)\n",
        "print(vers1)\n",
        "print(vers2)\n",
        "print('\\u2022 GPU Device Found.' if tf.config.list_physical_devices('GPU') else '\\u2022 GPU Device Not Found. Running on CPU')"
      ],
      "execution_count": 1,
      "outputs": [
        {
          "output_type": "stream",
          "text": [
            "Requirement already satisfied: pyyaml in /usr/local/lib/python3.7/dist-packages (3.13)\n",
            "Requirement already satisfied: h5py in /usr/local/lib/python3.7/dist-packages (3.1.0)\n",
            "Requirement already satisfied: cached-property; python_version < \"3.8\" in /usr/local/lib/python3.7/dist-packages (from h5py) (1.5.2)\n",
            "Requirement already satisfied: numpy>=1.14.5; python_version == \"3.7\" in /usr/local/lib/python3.7/dist-packages (from h5py) (1.19.5)\n",
            "Tensorflow version: 2.5.0\n",
            "Numpy version: 1.19.5\n",
            "• GPU Device Found.\n"
          ],
          "name": "stdout"
        }
      ]
    },
    {
      "cell_type": "markdown",
      "metadata": {
        "id": "0IL4R9PCfm-_"
      },
      "source": [
        "## Prepare the training data"
      ]
    },
    {
      "cell_type": "markdown",
      "metadata": {
        "id": "xrl7GopAftc9"
      },
      "source": [
        "First let's download and organize the garbage classification dataset to train the model. It contains 6 garbage classes; cardboard (393), glass (491), metal (400), paper(584), plastic (472) and trash(127). [Garbage Classification Dataset](https://www.kaggle.com/asdasdasasdas/garbage-classification)\n",
        "\n",
        "Notice that the \"Garbage Classification\" directory contains an appropriately-named directory for each class. The following code randomizes and divides up the photos into training and validation sets, and generates a labels file based on the photo folder names."
      ]
    },
    {
      "cell_type": "code",
      "metadata": {
        "colab": {
          "base_uri": "https://localhost:8080/"
        },
        "id": "-EF42f3Ofols",
        "outputId": "a68b2aca-db09-4686-c0a7-e2299fe7ef08"
      },
      "source": [
        "! wget --no-check-certificate \\\n",
        "  https://drive.google.com/u/0/uc?id=1KF6dMW9UmhGS1mWQsfFZLp4VFuhXaUhm&export=download\n",
        "    \n",
        "os.rename('uc?id=1KF6dMW9UmhGS1mWQsfFZLp4VFuhXaUhm', 'kaggle.json')\n",
        "! mkdir ~/.kaggle\n",
        "! cp /content/kaggle.json ~/.kaggle/\n",
        "! chmod 600 ~/.kaggle/kaggle.json\n",
        "! kaggle datasets download -d asdasdasasdas/garbage-classification"
      ],
      "execution_count": 2,
      "outputs": [
        {
          "output_type": "stream",
          "text": [
            "--2021-06-05 12:55:40--  https://drive.google.com/u/0/uc?id=1KF6dMW9UmhGS1mWQsfFZLp4VFuhXaUhm\n",
            "Resolving drive.google.com (drive.google.com)... 64.233.189.100, 64.233.189.101, 64.233.189.139, ...\n",
            "Connecting to drive.google.com (drive.google.com)|64.233.189.100|:443... connected.\n",
            "HTTP request sent, awaiting response... 302 Moved Temporarily\n",
            "Location: https://doc-0o-08-docs.googleusercontent.com/docs/securesc/ha0ro937gcuc7l7deffksulhg5h7mbp1/le42fiam1r732aemocmv9nc5i3a1ohja/1622897700000/14459494156754265611/*/1KF6dMW9UmhGS1mWQsfFZLp4VFuhXaUhm [following]\n",
            "Warning: wildcards not supported in HTTP.\n",
            "--2021-06-05 12:55:41--  https://doc-0o-08-docs.googleusercontent.com/docs/securesc/ha0ro937gcuc7l7deffksulhg5h7mbp1/le42fiam1r732aemocmv9nc5i3a1ohja/1622897700000/14459494156754265611/*/1KF6dMW9UmhGS1mWQsfFZLp4VFuhXaUhm\n",
            "Resolving doc-0o-08-docs.googleusercontent.com (doc-0o-08-docs.googleusercontent.com)... 64.233.189.132, 2404:6800:4008:c07::84\n",
            "Connecting to doc-0o-08-docs.googleusercontent.com (doc-0o-08-docs.googleusercontent.com)|64.233.189.132|:443... connected.\n",
            "HTTP request sent, awaiting response... 200 OK\n",
            "Length: 65 [application/json]\n",
            "Saving to: ‘uc?id=1KF6dMW9UmhGS1mWQsfFZLp4VFuhXaUhm’\n",
            "\n",
            "uc?id=1KF6dMW9UmhGS 100%[===================>]      65  --.-KB/s    in 0s      \n",
            "\n",
            "2021-06-05 12:55:41 (2.82 MB/s) - ‘uc?id=1KF6dMW9UmhGS1mWQsfFZLp4VFuhXaUhm’ saved [65/65]\n",
            "\n",
            "Downloading garbage-classification.zip to /content\n",
            " 85% 70.0M/82.0M [00:01<00:00, 29.1MB/s]\n",
            "100% 82.0M/82.0M [00:01<00:00, 76.6MB/s]\n"
          ],
          "name": "stdout"
        }
      ]
    },
    {
      "cell_type": "code",
      "metadata": {
        "id": "-JknIPmLh0FT"
      },
      "source": [
        "local_zip = '/content/garbage-classification.zip'\n",
        "zip_ref = zipfile.ZipFile(local_zip, 'r')\n",
        "zip_ref.extractall('sampah')\n",
        "zip_ref.close()\n",
        "\n",
        "base_dir = '/content/sampah/Garbage classification/Garbage classification'"
      ],
      "execution_count": 3,
      "outputs": []
    },
    {
      "cell_type": "markdown",
      "metadata": {
        "id": "jOp-43HOiEAE"
      },
      "source": [
        "Next, we use [`ImageDataGenerator`](https://www.tensorflow.org/api_docs/python/tf/keras/preprocessing/image/ImageDataGenerator) to rescale the image data into float values (divide by 255 so the tensor values are between 0 and 1), and call `flow_from_directory()` to create two generators: one for the training dataset and one for the validation dataset. We split 10% dataset for the validation (251 images)"
      ]
    },
    {
      "cell_type": "code",
      "metadata": {
        "colab": {
          "base_uri": "https://localhost:8080/"
        },
        "id": "1c0YczUNiFXw",
        "outputId": "2ef2b33c-b19d-4429-efa3-f90b4bf7e1a8"
      },
      "source": [
        "IMAGE_SIZE = 224\n",
        "BATCH_SIZE = 64\n",
        "\n",
        "datagen = tf.keras.preprocessing.image.ImageDataGenerator(\n",
        "    rescale=1./255, \n",
        "    validation_split=0.1)\n",
        "\n",
        "train_generator = datagen.flow_from_directory(\n",
        "    base_dir,\n",
        "    target_size=(IMAGE_SIZE, IMAGE_SIZE),\n",
        "    batch_size=BATCH_SIZE, \n",
        "    subset='training')\n",
        "\n",
        "val_generator = datagen.flow_from_directory(\n",
        "    base_dir,\n",
        "    target_size=(IMAGE_SIZE, IMAGE_SIZE),\n",
        "    batch_size=BATCH_SIZE, \n",
        "    subset='validation')"
      ],
      "execution_count": 4,
      "outputs": [
        {
          "output_type": "stream",
          "text": [
            "Found 2276 images belonging to 6 classes.\n",
            "Found 251 images belonging to 6 classes.\n"
          ],
          "name": "stdout"
        }
      ]
    },
    {
      "cell_type": "markdown",
      "metadata": {
        "id": "D9B2R9DIjW6Z"
      },
      "source": [
        "On each iteration, these generators provide a batch of images by reading images from disk and processing them to the proper tensor size (224 x 224). The output is a tuple of (images, labels). We save the class labels to a text file."
      ]
    },
    {
      "cell_type": "code",
      "metadata": {
        "colab": {
          "base_uri": "https://localhost:8080/"
        },
        "id": "x-ZcQ43MjY1f",
        "outputId": "9381de39-df53-42c4-d25b-69b5d30d7a21"
      },
      "source": [
        "image_batch, label_batch = next(val_generator)\n",
        "image_batch.shape, label_batch.shape\n",
        "\n",
        "print (train_generator.class_indices)\n",
        "labels = '\\n'.join(sorted(train_generator.class_indices.keys()))\n",
        "\n",
        "with open('labels.txt', 'w') as f:\n",
        "  f.write(labels)"
      ],
      "execution_count": 5,
      "outputs": [
        {
          "output_type": "stream",
          "text": [
            "{'cardboard': 0, 'glass': 1, 'metal': 2, 'paper': 3, 'plastic': 4, 'trash': 5}\n"
          ],
          "name": "stdout"
        }
      ]
    },
    {
      "cell_type": "code",
      "metadata": {
        "colab": {
          "base_uri": "https://localhost:8080/"
        },
        "id": "pvdJV3xhjolc",
        "outputId": "37df03e8-b2a1-4a7f-e978-428bdce17f18"
      },
      "source": [
        "!cat labels.txt"
      ],
      "execution_count": 6,
      "outputs": [
        {
          "output_type": "stream",
          "text": [
            "cardboard\n",
            "glass\n",
            "metal\n",
            "paper\n",
            "plastic\n",
            "trash"
          ],
          "name": "stdout"
        }
      ]
    },
    {
      "cell_type": "markdown",
      "metadata": {
        "id": "j3D-L8XKj4FM"
      },
      "source": [
        "## Build the model\n",
        "\n",
        "Now we'll create a model that's capable of transfer learning on just the last fully-connected layer. \n",
        "\n",
        "We'll start with MobileNet V2 from Keras as the base model, which is pre-trained with the ImageNet dataset (trained to recognize 1,000 classes). This provides us a great feature extractor for image classification and we can then train a new classification layer with our garbage classification dataset.\n",
        "\n"
      ]
    },
    {
      "cell_type": "markdown",
      "metadata": {
        "id": "m3kAsO5akG3W"
      },
      "source": [
        "### Create the base model \n",
        "\n",
        "When instantiating the `MobileNetV2` model, we specify the `include_top = False` argument in order to load the network *without* the classification layers at the top. Then we set `trainable = False` to freeze all the weights in the base model. This effectively converts the model into a feature extractor because all the pre-trained weights and biases are preserved in the lower layers when we begin training for our classification head."
      ]
    },
    {
      "cell_type": "code",
      "metadata": {
        "colab": {
          "base_uri": "https://localhost:8080/"
        },
        "id": "vaCUlcNmjw59",
        "outputId": "b122ab59-d009-48f2-bfb8-d184dcb1fcdb"
      },
      "source": [
        "IMG_SHAPE = (IMAGE_SIZE, IMAGE_SIZE, 3)\n",
        "\n",
        "base_model = tf.keras.applications.MobileNetV2(input_shape=IMG_SHAPE,\n",
        "                                              include_top=False, \n",
        "                                              weights='imagenet')\n",
        "base_model.trainable = False"
      ],
      "execution_count": 7,
      "outputs": [
        {
          "output_type": "stream",
          "text": [
            "Downloading data from https://storage.googleapis.com/tensorflow/keras-applications/mobilenet_v2/mobilenet_v2_weights_tf_dim_ordering_tf_kernels_1.0_224_no_top.h5\n",
            "9412608/9406464 [==============================] - 0s 0us/step\n"
          ],
          "name": "stdout"
        }
      ]
    },
    {
      "cell_type": "markdown",
      "metadata": {
        "id": "6P_yoI6Ikf8q"
      },
      "source": [
        "### Add a classification head\n",
        "\n",
        "Now we create a new [`Sequential`](https://www.tensorflow.org/api_docs/python/tf/keras/Sequential) model and pass the frozen MobileNet model as the base of the graph, and append new classification layers so we can set the final output dimension to match the number of classes in  dataset (6 types of garbage)."
      ]
    },
    {
      "cell_type": "code",
      "metadata": {
        "id": "Xzel32-Dkwjk"
      },
      "source": [
        "model = tf.keras.Sequential([\n",
        "  base_model,\n",
        "  tf.keras.layers.Conv2D(32, (3,3), activation='relu'),\n",
        "  tf.keras.layers.Dropout(0.1),\n",
        "  tf.keras.layers.GlobalAveragePooling2D(),\n",
        "  tf.keras.layers.Dense(6, activation='softmax')\n",
        "])"
      ],
      "execution_count": 12,
      "outputs": []
    },
    {
      "cell_type": "markdown",
      "metadata": {
        "id": "WsjxxaQCk9Ba"
      },
      "source": [
        "### Configure the model\n",
        "\n",
        "Although this method is called `compile()`, it's basically a configuration step that's required before we can start training. We can see a string summary of the final network with the `summary()` method:"
      ]
    },
    {
      "cell_type": "code",
      "metadata": {
        "colab": {
          "base_uri": "https://localhost:8080/"
        },
        "id": "3xUHNX4DlBIE",
        "outputId": "699e28b8-1441-47f5-c102-44415ba6cacd"
      },
      "source": [
        "model.compile(optimizer='adam', \n",
        "              loss='categorical_crossentropy', \n",
        "              metrics=['accuracy'])\n",
        "\n",
        "model.summary()"
      ],
      "execution_count": 13,
      "outputs": [
        {
          "output_type": "stream",
          "text": [
            "Model: \"sequential_1\"\n",
            "_________________________________________________________________\n",
            "Layer (type)                 Output Shape              Param #   \n",
            "=================================================================\n",
            "mobilenetv2_1.00_224 (Functi (None, 7, 7, 1280)        2257984   \n",
            "_________________________________________________________________\n",
            "conv2d_1 (Conv2D)            (None, 5, 5, 32)          368672    \n",
            "_________________________________________________________________\n",
            "dropout_1 (Dropout)          (None, 5, 5, 32)          0         \n",
            "_________________________________________________________________\n",
            "global_average_pooling2d_1 ( (None, 32)                0         \n",
            "_________________________________________________________________\n",
            "dense_1 (Dense)              (None, 6)                 198       \n",
            "=================================================================\n",
            "Total params: 2,626,854\n",
            "Trainable params: 368,870\n",
            "Non-trainable params: 2,257,984\n",
            "_________________________________________________________________\n"
          ],
          "name": "stdout"
        }
      ]
    },
    {
      "cell_type": "markdown",
      "metadata": {
        "id": "LoVk5tYVlNk-"
      },
      "source": [
        "And because the majority of the model graph is frozen in the base model, weights from only the last convolution and dense layers are trainable:"
      ]
    },
    {
      "cell_type": "code",
      "metadata": {
        "colab": {
          "base_uri": "https://localhost:8080/"
        },
        "id": "CWcmwlyalORz",
        "outputId": "1bf31f52-302e-4661-c32c-45e2af1674af"
      },
      "source": [
        "print('Number of trainable weights = {}'.format(len(model.trainable_weights)))"
      ],
      "execution_count": 14,
      "outputs": [
        {
          "output_type": "stream",
          "text": [
            "Number of trainable weights = 4\n"
          ],
          "name": "stdout"
        }
      ]
    },
    {
      "cell_type": "markdown",
      "metadata": {
        "id": "rmtYrnDhlYAr"
      },
      "source": [
        "## Train the model\n"
      ]
    },
    {
      "cell_type": "markdown",
      "metadata": {
        "id": "DW5eAya-lRiO"
      },
      "source": [
        "Now we can train the model using data provided by the `train_generator` and `val_generator` that we created at the beginning. \n",
        "\n",
        "This should take less than 10 minutes."
      ]
    },
    {
      "cell_type": "code",
      "metadata": {
        "colab": {
          "base_uri": "https://localhost:8080/"
        },
        "id": "9S7Lm1lhldNl",
        "outputId": "bea5cd6e-14e2-457e-dbe0-832f09d4583b"
      },
      "source": [
        "checkpoint_path = \"/content/training_1/cp.ckpt\"\n",
        "checkpoint_dir = os.path.dirname(checkpoint_path)\n",
        "\n",
        "cp_callback = tf.keras.callbacks.ModelCheckpoint(filepath=checkpoint_path,\n",
        "                                                 save_weights_only=True,\n",
        "                                                 verbose=1)\n",
        "\n",
        "EPOCHS = 10\n",
        "history = model.fit(train_generator,\n",
        "                    steps_per_epoch=len(train_generator), \n",
        "                    epochs=EPOCHS,\n",
        "                    validation_data=val_generator,\n",
        "                    validation_steps=len(val_generator),\n",
        "                    callbacks=[cp_callback])"
      ],
      "execution_count": 15,
      "outputs": [
        {
          "output_type": "stream",
          "text": [
            "Epoch 1/10\n",
            "36/36 [==============================] - 15s 344ms/step - loss: 1.5231 - accuracy: 0.4288 - val_loss: 1.0232 - val_accuracy: 0.5219\n",
            "\n",
            "Epoch 00001: saving model to /content/training_1/cp.ckpt\n",
            "Epoch 2/10\n",
            "36/36 [==============================] - 11s 310ms/step - loss: 0.9226 - accuracy: 0.6305 - val_loss: 0.7288 - val_accuracy: 0.7450\n",
            "\n",
            "Epoch 00002: saving model to /content/training_1/cp.ckpt\n",
            "Epoch 3/10\n",
            "36/36 [==============================] - 11s 310ms/step - loss: 0.6073 - accuracy: 0.7777 - val_loss: 0.5792 - val_accuracy: 0.7649\n",
            "\n",
            "Epoch 00003: saving model to /content/training_1/cp.ckpt\n",
            "Epoch 4/10\n",
            "36/36 [==============================] - 11s 310ms/step - loss: 0.3922 - accuracy: 0.8629 - val_loss: 0.5803 - val_accuracy: 0.8048\n",
            "\n",
            "Epoch 00004: saving model to /content/training_1/cp.ckpt\n",
            "Epoch 5/10\n",
            "36/36 [==============================] - 11s 308ms/step - loss: 0.2716 - accuracy: 0.9099 - val_loss: 0.4839 - val_accuracy: 0.8287\n",
            "\n",
            "Epoch 00005: saving model to /content/training_1/cp.ckpt\n",
            "Epoch 6/10\n",
            "36/36 [==============================] - 11s 308ms/step - loss: 0.2035 - accuracy: 0.9332 - val_loss: 0.4604 - val_accuracy: 0.8526\n",
            "\n",
            "Epoch 00006: saving model to /content/training_1/cp.ckpt\n",
            "Epoch 7/10\n",
            "36/36 [==============================] - 11s 309ms/step - loss: 0.1527 - accuracy: 0.9552 - val_loss: 0.4786 - val_accuracy: 0.8167\n",
            "\n",
            "Epoch 00007: saving model to /content/training_1/cp.ckpt\n",
            "Epoch 8/10\n",
            "36/36 [==============================] - 11s 310ms/step - loss: 0.1091 - accuracy: 0.9719 - val_loss: 0.4940 - val_accuracy: 0.8327\n",
            "\n",
            "Epoch 00008: saving model to /content/training_1/cp.ckpt\n",
            "Epoch 9/10\n",
            "36/36 [==============================] - 11s 309ms/step - loss: 0.0872 - accuracy: 0.9824 - val_loss: 0.5444 - val_accuracy: 0.8247\n",
            "\n",
            "Epoch 00009: saving model to /content/training_1/cp.ckpt\n",
            "Epoch 10/10\n",
            "36/36 [==============================] - 11s 309ms/step - loss: 0.0734 - accuracy: 0.9842 - val_loss: 0.5108 - val_accuracy: 0.8207\n",
            "\n",
            "Epoch 00010: saving model to /content/training_1/cp.ckpt\n"
          ],
          "name": "stdout"
        }
      ]
    },
    {
      "cell_type": "markdown",
      "metadata": {
        "id": "eCvuVSQOlcHE"
      },
      "source": [
        "### Review the learning curves\n"
      ]
    },
    {
      "cell_type": "markdown",
      "metadata": {
        "id": "HDHzOd1_li9f"
      },
      "source": [
        "we can see graphs of training and validation results using the `matplotlib` library."
      ]
    },
    {
      "cell_type": "code",
      "metadata": {
        "colab": {
          "base_uri": "https://localhost:8080/",
          "height": 513
        },
        "id": "uVgCp3hdliIy",
        "outputId": "e8544103-9d08-4b16-de49-1903a799622d"
      },
      "source": [
        "acc = history.history['accuracy']\n",
        "val_acc = history.history['val_accuracy']\n",
        "\n",
        "loss = history.history['loss']\n",
        "val_loss = history.history['val_loss']\n",
        "\n",
        "plt.figure(figsize=(8, 8))\n",
        "plt.subplot(2, 1, 1)\n",
        "plt.plot(acc, label='Training Accuracy')\n",
        "plt.plot(val_acc, label='Validation Accuracy')\n",
        "plt.legend(loc='lower right')\n",
        "plt.ylabel('Accuracy')\n",
        "plt.ylim([min(plt.ylim()),1])\n",
        "plt.title('Training and Validation Accuracy')\n",
        "\n",
        "plt.subplot(2, 1, 2)\n",
        "plt.plot(loss, label='Training Loss')\n",
        "plt.plot(val_loss, label='Validation Loss')\n",
        "plt.legend(loc='upper right')\n",
        "plt.ylabel('Cross Entropy')\n",
        "plt.title('Training and Validation Loss')\n",
        "plt.xlabel('epoch')\n",
        "plt.savefig('/content/graph1.png', dpi=300, bbox_inches='tight')\n",
        "plt.show()"
      ],
      "execution_count": 16,
      "outputs": [
        {
          "output_type": "display_data",
          "data": {
            "image/png": "[encoded data removed]",
            "text/plain": [
              "<Figure size 576x576 with 2 Axes>"
            ]
          },
          "metadata": {
            "tags": [],
            "needs_background": "light"
          }
        }
      ]
    },
    {
      "cell_type": "markdown",
      "metadata": {
        "id": "mQtay_M0mGvc"
      },
      "source": [
        "## Fine tune the base model\n"
      ]
    },
    {
      "cell_type": "markdown",
      "metadata": {
        "id": "1J4uN4eMmMiq"
      },
      "source": [
        "So far, we've only trained the classification layers—the weights of the pre-trained network were *not* changed.\n",
        "\n",
        "One way we can increase the accuracy is to train (or \"fine-tune\") more layers from the pre-trained model. That is, we'll un-freeze some layers from the base model and adjust those weights (which were originally trained with 1,000 ImageNet classes) so they're better tuned for features found in dataset."
      ]
    },
    {
      "cell_type": "markdown",
      "metadata": {
        "id": "4BEKhCJCmZg0"
      },
      "source": [
        "### Un-freeze more layers\n"
      ]
    },
    {
      "cell_type": "markdown",
      "metadata": {
        "id": "SJMyAliZmaim"
      },
      "source": [
        "So instead of freezing the entire base model, we'll freeze individual layers.\n",
        "\n",
        "First, let's see how many layers are in the base model:"
      ]
    },
    {
      "cell_type": "code",
      "metadata": {
        "colab": {
          "base_uri": "https://localhost:8080/"
        },
        "id": "AOWNsfWYmd3P",
        "outputId": "e4974361-ae8b-4dcf-c623-814cf4c6423e"
      },
      "source": [
        "print(\"Number of layers in the base model: \", len(base_model.layers))"
      ],
      "execution_count": 22,
      "outputs": [
        {
          "output_type": "stream",
          "text": [
            "Number of layers in the base model:  154\n"
          ],
          "name": "stdout"
        }
      ]
    },
    {
      "cell_type": "markdown",
      "metadata": {
        "id": "O3eBtQDdm2yS"
      },
      "source": [
        "We freeze just the bottom 100 layers."
      ]
    },
    {
      "cell_type": "code",
      "metadata": {
        "id": "HuJ1ZuwHm1X6"
      },
      "source": [
        "base_model.trainable = True\n",
        "fine_tune_at = 100\n",
        "\n",
        "# Freeze all the layers before the `fine_tune_at` layer\n",
        "for layer in base_model.layers[:fine_tune_at]:\n",
        "  layer.trainable =  False"
      ],
      "execution_count": 23,
      "outputs": []
    },
    {
      "cell_type": "markdown",
      "metadata": {
        "id": "OrMvO39vnD-J"
      },
      "source": [
        "### Reconfigure the model\n",
        "\n",
        "Now configure the model again, but this time with a lower learning rate (the default is 0.001)."
      ]
    },
    {
      "cell_type": "code",
      "metadata": {
        "colab": {
          "base_uri": "https://localhost:8080/"
        },
        "id": "8v6HmvzPnBT1",
        "outputId": "d4d20612-5809-494a-e64e-5a049667c905"
      },
      "source": [
        "model.compile(optimizer=tf.keras.optimizers.Adam(1e-5),\n",
        "              loss='categorical_crossentropy',\n",
        "              metrics=['accuracy'])\n",
        "\n",
        "model.summary()"
      ],
      "execution_count": 24,
      "outputs": [
        {
          "output_type": "stream",
          "text": [
            "Model: \"sequential_1\"\n",
            "_________________________________________________________________\n",
            "Layer (type)                 Output Shape              Param #   \n",
            "=================================================================\n",
            "mobilenetv2_1.00_224 (Functi (None, 7, 7, 1280)        2257984   \n",
            "_________________________________________________________________\n",
            "conv2d_1 (Conv2D)            (None, 5, 5, 32)          368672    \n",
            "_________________________________________________________________\n",
            "dropout_1 (Dropout)          (None, 5, 5, 32)          0         \n",
            "_________________________________________________________________\n",
            "global_average_pooling2d_1 ( (None, 32)                0         \n",
            "_________________________________________________________________\n",
            "dense_1 (Dense)              (None, 6)                 198       \n",
            "=================================================================\n",
            "Total params: 2,626,854\n",
            "Trainable params: 2,230,310\n",
            "Non-trainable params: 396,544\n",
            "_________________________________________________________________\n"
          ],
          "name": "stdout"
        }
      ]
    },
    {
      "cell_type": "code",
      "metadata": {
        "colab": {
          "base_uri": "https://localhost:8080/"
        },
        "id": "rPMn_xE4nmzz",
        "outputId": "f5bf06e7-1ce1-487b-cab1-6e438637396b"
      },
      "source": [
        "print('Number of trainable weights = {}'.format(len(model.trainable_weights)))"
      ],
      "execution_count": 25,
      "outputs": [
        {
          "output_type": "stream",
          "text": [
            "Number of trainable weights = 58\n"
          ],
          "name": "stdout"
        }
      ]
    },
    {
      "cell_type": "markdown",
      "metadata": {
        "id": "AvV5TBKznqpM"
      },
      "source": [
        "### Continue training"
      ]
    },
    {
      "cell_type": "markdown",
      "metadata": {
        "id": "0E0vntcAnvVG"
      },
      "source": [
        "Now we fine-tune all trainable layers. This starts with the weights we already trained in the classification layers, so we don't need as many epochs."
      ]
    },
    {
      "cell_type": "code",
      "metadata": {
        "colab": {
          "base_uri": "https://localhost:8080/"
        },
        "id": "WQvhQfn-nocU",
        "outputId": "2adf9c45-37d7-43db-befa-32902f014ced"
      },
      "source": [
        "checkpoint_path_fine = \"/content/training_2/cp.ckpt\"\n",
        "checkpoint_dir_fine = os.path.dirname(checkpoint_path_fine)\n",
        "\n",
        "cp_callback_fine = tf.keras.callbacks.ModelCheckpoint(filepath=checkpoint_path_fine,\n",
        "                                                 save_weights_only=True,\n",
        "                                                 verbose=1)\n",
        "\n",
        "EPOCHS_FINE = 10\n",
        "history_fine = model.fit(train_generator,\n",
        "                         steps_per_epoch=len(train_generator), \n",
        "                         epochs=EPOCHS_FINE,\n",
        "                         validation_data=val_generator,\n",
        "                         validation_steps=len(val_generator),\n",
        "                         callbacks=[cp_callback_fine])"
      ],
      "execution_count": 26,
      "outputs": [
        {
          "output_type": "stream",
          "text": [
            "Epoch 1/10\n",
            "36/36 [==============================] - 17s 363ms/step - loss: 0.1469 - accuracy: 0.9512 - val_loss: 0.4848 - val_accuracy: 0.8566\n",
            "\n",
            "Epoch 00001: saving model to /content/training_2/cp.ckpt\n",
            "Epoch 2/10\n",
            "36/36 [==============================] - 12s 333ms/step - loss: 0.1065 - accuracy: 0.9706 - val_loss: 0.4746 - val_accuracy: 0.8526\n",
            "\n",
            "Epoch 00002: saving model to /content/training_2/cp.ckpt\n",
            "Epoch 3/10\n",
            "36/36 [==============================] - 12s 334ms/step - loss: 0.0773 - accuracy: 0.9855 - val_loss: 0.4704 - val_accuracy: 0.8566\n",
            "\n",
            "Epoch 00003: saving model to /content/training_2/cp.ckpt\n",
            "Epoch 4/10\n",
            "36/36 [==============================] - 12s 334ms/step - loss: 0.0693 - accuracy: 0.9846 - val_loss: 0.4635 - val_accuracy: 0.8566\n",
            "\n",
            "Epoch 00004: saving model to /content/training_2/cp.ckpt\n",
            "Epoch 5/10\n",
            "36/36 [==============================] - 12s 335ms/step - loss: 0.0547 - accuracy: 0.9899 - val_loss: 0.4533 - val_accuracy: 0.8526\n",
            "\n",
            "Epoch 00005: saving model to /content/training_2/cp.ckpt\n",
            "Epoch 6/10\n",
            "36/36 [==============================] - 12s 336ms/step - loss: 0.0569 - accuracy: 0.9899 - val_loss: 0.4555 - val_accuracy: 0.8526\n",
            "\n",
            "Epoch 00006: saving model to /content/training_2/cp.ckpt\n",
            "Epoch 7/10\n",
            "36/36 [==============================] - 12s 333ms/step - loss: 0.0409 - accuracy: 0.9956 - val_loss: 0.4535 - val_accuracy: 0.8606\n",
            "\n",
            "Epoch 00007: saving model to /content/training_2/cp.ckpt\n",
            "Epoch 8/10\n",
            "36/36 [==============================] - 12s 332ms/step - loss: 0.0363 - accuracy: 0.9956 - val_loss: 0.4499 - val_accuracy: 0.8606\n",
            "\n",
            "Epoch 00008: saving model to /content/training_2/cp.ckpt\n",
            "Epoch 9/10\n",
            "36/36 [==============================] - 12s 332ms/step - loss: 0.0286 - accuracy: 0.9974 - val_loss: 0.4463 - val_accuracy: 0.8606\n",
            "\n",
            "Epoch 00009: saving model to /content/training_2/cp.ckpt\n",
            "Epoch 10/10\n",
            "36/36 [==============================] - 12s 335ms/step - loss: 0.0283 - accuracy: 0.9974 - val_loss: 0.4375 - val_accuracy: 0.8645\n",
            "\n",
            "Epoch 00010: saving model to /content/training_2/cp.ckpt\n"
          ],
          "name": "stdout"
        }
      ]
    },
    {
      "cell_type": "markdown",
      "metadata": {
        "id": "fP6epb4qoNbZ"
      },
      "source": [
        "### Review the new learning curves and save the model"
      ]
    },
    {
      "cell_type": "code",
      "metadata": {
        "id": "vCYjI0_EoQyv",
        "colab": {
          "base_uri": "https://localhost:8080/",
          "height": 513
        },
        "outputId": "211dd9d6-a603-4553-94c1-0ef8fde59ce4"
      },
      "source": [
        "acc = history_fine.history['accuracy']\n",
        "val_acc = history_fine.history['val_accuracy']\n",
        "\n",
        "loss = history_fine.history['loss']\n",
        "val_loss = history_fine.history['val_loss']\n",
        "\n",
        "plt.figure(figsize=(8, 8))\n",
        "plt.subplot(2, 1, 1)\n",
        "plt.plot(acc, label='Training Accuracy')\n",
        "plt.plot(val_acc, label='Validation Accuracy')\n",
        "plt.legend(loc='lower right')\n",
        "plt.ylabel('Accuracy')\n",
        "plt.ylim([min(plt.ylim()),1])\n",
        "plt.title('Training and Validation Accuracy')\n",
        "\n",
        "plt.subplot(2, 1, 2)\n",
        "plt.plot(loss, label='Training Loss')\n",
        "plt.plot(val_loss, label='Validation Loss')\n",
        "plt.legend(loc='upper right')\n",
        "plt.ylabel('Cross Entropy')\n",
        "plt.ylim([0,1.0])\n",
        "plt.title('Training and Validation Loss')\n",
        "plt.xlabel('epoch')\n",
        "plt.savefig('/content/graph2.png', dpi=300, bbox_inches='tight')\n",
        "plt.show()"
      ],
      "execution_count": 27,
      "outputs": [
        {
          "output_type": "display_data",
          "data": {
            "image/png": "[encoded data removed]",
            "text/plain": [
              "<Figure size 576x576 with 2 Axes>"
            ]
          },
          "metadata": {
            "tags": [],
            "needs_background": "light"
          }
        }
      ]
    },
    {
      "cell_type": "code",
      "metadata": {
        "id": "kSjfeirYoTXP",
        "colab": {
          "base_uri": "https://localhost:8080/"
        },
        "outputId": "37a13540-7650-4fd7-9a9a-9acdb42261f8"
      },
      "source": [
        "model.save('/content/si_limbah')\n",
        "model.save('/content/si_limbah.h5')"
      ],
      "execution_count": 30,
      "outputs": [
        {
          "output_type": "stream",
          "text": [
            "WARNING:absl:Function `_wrapped_model` contains input name(s) mobilenetv2_1.00_224_input with unsupported characters which will be renamed to mobilenetv2_1_00_224_input in the SavedModel.\n",
            "/usr/local/lib/python3.7/dist-packages/tensorflow/python/keras/utils/generic_utils.py:497: CustomMaskWarning: Custom mask layers require a config and must override get_config. When loading, the custom mask layer must be passed to the custom_objects argument.\n",
            "  category=CustomMaskWarning)\n"
          ],
          "name": "stderr"
        },
        {
          "output_type": "stream",
          "text": [
            "INFO:tensorflow:Assets written to: /content/si_limbah/assets\n"
          ],
          "name": "stdout"
        },
        {
          "output_type": "stream",
          "text": [
            "INFO:tensorflow:Assets written to: /content/si_limbah/assets\n"
          ],
          "name": "stderr"
        }
      ]
    },
    {
      "cell_type": "markdown",
      "metadata": {
        "id": "XZHAfKy0qfB0"
      },
      "source": [
        "This is better, but it's not ideal.\n",
        "\n",
        "The validation loss is still higher than the training loss, so there could be some overfitting during training. The overfitting might also be because the new training set is relatively small with less intra-class variance, compared to the original ImageNet dataset used to train MobileNet V2.\n",
        "\n",
        "And then we can convert the model to TensorFlow Lite."
      ]
    },
    {
      "cell_type": "markdown",
      "metadata": {
        "id": "Jhp2xxAzqoNg"
      },
      "source": [
        "## Convert to TFLite"
      ]
    },
    {
      "cell_type": "markdown",
      "metadata": {
        "id": "lClsIloXqpD4"
      },
      "source": [
        "Ordinarily, creating a TensorFlow Lite model is just a few lines of code with [`TFLiteConverter`](https://www.tensorflow.org/api_docs/python/tf/lite/TFLiteConverter). For example, this creates a basic (un-quantized) TensorFlow Lite model:"
      ]
    },
    {
      "cell_type": "code",
      "metadata": {
        "id": "YtX0xQMiqrMC",
        "colab": {
          "base_uri": "https://localhost:8080/"
        },
        "outputId": "db21647e-8345-4bb9-91bb-072c272e5a45"
      },
      "source": [
        "converter = tf.lite.TFLiteConverter.from_keras_model(model)\n",
        "tflite_model = converter.convert()\n",
        "\n",
        "with open('si_limbah.tflite', 'wb') as f:\n",
        "  f.write(tflite_model)"
      ],
      "execution_count": 31,
      "outputs": [
        {
          "output_type": "stream",
          "text": [
            "WARNING:absl:Function `_wrapped_model` contains input name(s) mobilenetv2_1.00_224_input with unsupported characters which will be renamed to mobilenetv2_1_00_224_input in the SavedModel.\n",
            "/usr/local/lib/python3.7/dist-packages/tensorflow/python/keras/utils/generic_utils.py:497: CustomMaskWarning: Custom mask layers require a config and must override get_config. When loading, the custom mask layer must be passed to the custom_objects argument.\n",
            "  category=CustomMaskWarning)\n"
          ],
          "name": "stderr"
        },
        {
          "output_type": "stream",
          "text": [
            "INFO:tensorflow:Assets written to: /tmp/tmpas56wd_k/assets\n"
          ],
          "name": "stdout"
        },
        {
          "output_type": "stream",
          "text": [
            "INFO:tensorflow:Assets written to: /tmp/tmpas56wd_k/assets\n"
          ],
          "name": "stderr"
        }
      ]
    },
    {
      "cell_type": "markdown",
      "metadata": {
        "id": "xu5J8Ttvq37M"
      },
      "source": [
        "However, this `.tflite` file still uses floating-point values for the parameter data, and we need to fully quantize the model to int8 format.\n",
        "\n",
        "To fully quantize the model, we need to perform [post-training quantization](https://www.tensorflow.org/lite/performance/post_training_quantization) with a representative dataset, which requires a few more arguments for the `TFLiteConverter`, and a function that builds a dataset that's representative of the training dataset. \n"
      ]
    },
    {
      "cell_type": "code",
      "metadata": {
        "id": "ODCbqAx0rALP",
        "colab": {
          "base_uri": "https://localhost:8080/"
        },
        "outputId": "df38c48c-0433-43bd-b9b7-c00ee8daf69c"
      },
      "source": [
        "# A generator that provides a representative dataset\n",
        "def representative_data_gen():\n",
        "  dataset_list = tf.data.Dataset.list_files(base_dir + '/*/*')\n",
        "  for i in range(100):\n",
        "    image = next(iter(dataset_list))\n",
        "    image = tf.io.read_file(image)\n",
        "    image = tf.io.decode_jpeg(image, channels=3)\n",
        "    image = tf.image.resize(image, [IMAGE_SIZE, IMAGE_SIZE])\n",
        "    image = tf.cast(image / 255., tf.float32)\n",
        "    image = tf.expand_dims(image, 0)\n",
        "    yield [image]\n",
        "\n",
        "converter = tf.lite.TFLiteConverter.from_keras_model(model)\n",
        "# This enables quantization\n",
        "converter.optimizations = [tf.lite.Optimize.DEFAULT]\n",
        "# This sets the representative dataset for quantization\n",
        "converter.representative_dataset = representative_data_gen\n",
        "# This ensures that if any ops can't be quantized, the converter throws an error\n",
        "converter.target_spec.supported_ops = [tf.lite.OpsSet.TFLITE_BUILTINS_INT8]\n",
        "# For full integer quantization, though supported types defaults to int8 only, we explicitly declare it for clarity.\n",
        "converter.target_spec.supported_types = [tf.int8]\n",
        "# These set the input and output tensors to uint8 (added in r2.3)\n",
        "converter.inference_input_type = tf.uint8\n",
        "converter.inference_output_type = tf.uint8\n",
        "tflite_model = converter.convert()\n",
        "\n",
        "with open('si_limbah_quant.tflite', 'wb') as f:\n",
        "  f.write(tflite_model)"
      ],
      "execution_count": 32,
      "outputs": [
        {
          "output_type": "stream",
          "text": [
            "WARNING:absl:Function `_wrapped_model` contains input name(s) mobilenetv2_1.00_224_input with unsupported characters which will be renamed to mobilenetv2_1_00_224_input in the SavedModel.\n",
            "/usr/local/lib/python3.7/dist-packages/tensorflow/python/keras/utils/generic_utils.py:497: CustomMaskWarning: Custom mask layers require a config and must override get_config. When loading, the custom mask layer must be passed to the custom_objects argument.\n",
            "  category=CustomMaskWarning)\n"
          ],
          "name": "stderr"
        },
        {
          "output_type": "stream",
          "text": [
            "INFO:tensorflow:Assets written to: /tmp/tmpjqum6q7g/assets\n"
          ],
          "name": "stdout"
        },
        {
          "output_type": "stream",
          "text": [
            "INFO:tensorflow:Assets written to: /tmp/tmpjqum6q7g/assets\n",
            "WARNING:absl:For model inputs containing unsupported operations which cannot be quantized, the `inference_input_type` attribute will default to the original type.\n"
          ],
          "name": "stderr"
        }
      ]
    },
    {
      "cell_type": "markdown",
      "metadata": {
        "id": "UaA7AsbVrOrq"
      },
      "source": [
        "### Compare the accuracy\n"
      ]
    },
    {
      "cell_type": "markdown",
      "metadata": {
        "id": "y16lRzj-rPL4"
      },
      "source": [
        "So now we have a fully quantized TensorFlow Lite model. To be sure the conversion went well, let's evaluate both the raw model and the TensorFlow Lite model. First check the accuracy of the raw model.\n"
      ]
    },
    {
      "cell_type": "code",
      "metadata": {
        "id": "wTudCqAjrTtD",
        "colab": {
          "base_uri": "https://localhost:8080/"
        },
        "outputId": "789acb62-df67-45a2-9e8e-caad85f495d4"
      },
      "source": [
        "batch_images, batch_labels = next(val_generator)\n",
        "\n",
        "logits = model(batch_images)\n",
        "prediction = np.argmax(logits, axis=1)\n",
        "truth = np.argmax(batch_labels, axis=1)\n",
        "\n",
        "keras_accuracy = tf.keras.metrics.Accuracy()\n",
        "keras_accuracy(prediction, truth)\n",
        "\n",
        "print(\"Raw model accuracy: {:.3%}\".format(keras_accuracy.result()))"
      ],
      "execution_count": 33,
      "outputs": [
        {
          "output_type": "stream",
          "text": [
            "Raw model accuracy: 92.188%\n"
          ],
          "name": "stdout"
        }
      ]
    },
    {
      "cell_type": "markdown",
      "metadata": {
        "id": "o2PiG7CMreiQ"
      },
      "source": [
        "Now let's check the accuracy of the `.tflite` file, using the same dataset.\n",
        "\n",
        "However, there's no convenient API to evaluate the accuracy of a TensorFlow Lite model, so this code runs several inferences and compares the predictions against ground truth."
      ]
    },
    {
      "cell_type": "code",
      "metadata": {
        "id": "atk7HnbrrWO8",
        "colab": {
          "base_uri": "https://localhost:8080/"
        },
        "outputId": "c2c372c8-57b3-4682-c034-c695f22768cc"
      },
      "source": [
        "def set_input_tensor(interpreter, input):\n",
        "  input_details = interpreter.get_input_details()[0]\n",
        "  tensor_index = input_details['index']\n",
        "  input_tensor = interpreter.tensor(tensor_index)()[0]\n",
        "  # Inputs for the TFLite model must be uint8, so we quantize our input data.\n",
        "  # NOTE: This step is necessary only because we're receiving input data from\n",
        "  # ImageDataGenerator, which rescaled all image data to float [0,1]. When using\n",
        "  # bitmap inputs, they're already uint8 [0,255] so this can be replaced with:\n",
        "  #   input_tensor[:, :] = input\n",
        "  scale, zero_point = input_details['quantization']\n",
        "  input_tensor[:, :] = np.uint8(input / scale + zero_point)\n",
        "\n",
        "def classify_image(interpreter, input):\n",
        "  set_input_tensor(interpreter, input)\n",
        "  interpreter.invoke()\n",
        "  output_details = interpreter.get_output_details()[0]\n",
        "  output = interpreter.get_tensor(output_details['index'])\n",
        "  # Outputs from the TFLite model are uint8, so we dequantize the results:\n",
        "  scale, zero_point = output_details['quantization']\n",
        "  output = scale * (output - zero_point)\n",
        "  top_1 = np.argmax(output)\n",
        "  return top_1\n",
        "\n",
        "interpreter = tf.lite.Interpreter('si_limbah_quant.tflite')\n",
        "interpreter.allocate_tensors()\n",
        "\n",
        "# Collect all inference predictions in a list\n",
        "batch_prediction = []\n",
        "batch_truth = np.argmax(batch_labels, axis=1)\n",
        "\n",
        "for i in range(len(batch_images)):\n",
        "  prediction = classify_image(interpreter, batch_images[i])\n",
        "  batch_prediction.append(prediction)\n",
        "\n",
        "# Compare all predictions to the ground truth\n",
        "tflite_accuracy = tf.keras.metrics.Accuracy()\n",
        "tflite_accuracy(batch_prediction, batch_truth)\n",
        "print(\"Quant TF Lite accuracy: {:.3%}\".format(tflite_accuracy.result()))\n"
      ],
      "execution_count": 34,
      "outputs": [
        {
          "output_type": "stream",
          "text": [
            "Quant TF Lite accuracy: 87.500%\n"
          ],
          "name": "stdout"
        }
      ]
    },
    {
      "cell_type": "markdown",
      "metadata": {
        "id": "W0WeqCnFr1C8"
      },
      "source": [
        "## Compile for the Edge TPU\n"
      ]
    },
    {
      "cell_type": "markdown",
      "metadata": {
        "id": "rEDh513hr2nt"
      },
      "source": [
        "Finally, we compile the model for the Edge TPU.\n",
        "\n",
        "First download the [Edge TPU Compiler](https://coral.ai/docs/edgetpu/compiler/) and then compile the model"
      ]
    },
    {
      "cell_type": "code",
      "metadata": {
        "id": "8GsjXCo9r1yt",
        "colab": {
          "base_uri": "https://localhost:8080/"
        },
        "outputId": "dcb28ce2-76d5-4eb3-a373-14e19ff41083"
      },
      "source": [
        "! curl https://packages.cloud.google.com/apt/doc/apt-key.gpg | sudo apt-key add -\n",
        "\n",
        "! echo \"deb https://packages.cloud.google.com/apt coral-edgetpu-stable main\" | sudo tee /etc/apt/sources.list.d/coral-edgetpu.list\n",
        "\n",
        "! sudo apt-get update\n",
        "\n",
        "! sudo apt-get install edgetpu-compiler\n",
        "\n",
        "! edgetpu_compiler si_limbah_quant.tflite"
      ],
      "execution_count": 35,
      "outputs": [
        {
          "output_type": "stream",
          "text": [
            "  % Total    % Received % Xferd  Average Speed   Time    Time     Time  Current\n",
            "                                 Dload  Upload   Total   Spent    Left  Speed\n",
            "\r  0     0    0     0    0     0      0      0 --:--:-- --:--:-- --:--:--     0\r100  2537  100  2537    0     0   112k      0 --:--:-- --:--:-- --:--:--  112k\n",
            "OK\n",
            "deb https://packages.cloud.google.com/apt coral-edgetpu-stable main\n",
            "Get:1 https://cloud.r-project.org/bin/linux/ubuntu bionic-cran40/ InRelease [3,626 B]\n",
            "Ign:2 https://developer.download.nvidia.com/compute/cuda/repos/ubuntu1804/x86_64  InRelease\n",
            "Get:3 http://security.ubuntu.com/ubuntu bionic-security InRelease [88.7 kB]\n",
            "Get:4 http://ppa.launchpad.net/c2d4u.team/c2d4u4.0+/ubuntu bionic InRelease [15.9 kB]\n",
            "Hit:5 http://archive.ubuntu.com/ubuntu bionic InRelease\n",
            "Ign:6 https://developer.download.nvidia.com/compute/machine-learning/repos/ubuntu1804/x86_64  InRelease\n",
            "Hit:7 https://developer.download.nvidia.com/compute/cuda/repos/ubuntu1804/x86_64  Release\n",
            "Hit:8 https://developer.download.nvidia.com/compute/machine-learning/repos/ubuntu1804/x86_64  Release\n",
            "Get:9 https://packages.cloud.google.com/apt coral-edgetpu-stable InRelease [6,722 B]\n",
            "Get:11 http://archive.ubuntu.com/ubuntu bionic-updates InRelease [88.7 kB]\n",
            "Get:13 https://packages.cloud.google.com/apt coral-edgetpu-stable/main amd64 Packages [2,174 B]\n",
            "Hit:14 http://ppa.launchpad.net/cran/libgit2/ubuntu bionic InRelease\n",
            "Get:15 http://security.ubuntu.com/ubuntu bionic-security/universe amd64 Packages [1,414 kB]\n",
            "Get:16 http://archive.ubuntu.com/ubuntu bionic-backports InRelease [74.6 kB]\n",
            "Get:17 http://ppa.launchpad.net/deadsnakes/ppa/ubuntu bionic InRelease [15.9 kB]\n",
            "Get:18 http://archive.ubuntu.com/ubuntu bionic-updates/universe amd64 Packages [2,184 kB]\n",
            "Get:19 http://security.ubuntu.com/ubuntu bionic-security/main amd64 Packages [2,184 kB]\n",
            "Hit:20 http://ppa.launchpad.net/graphics-drivers/ppa/ubuntu bionic InRelease\n",
            "Get:21 http://security.ubuntu.com/ubuntu bionic-security/restricted amd64 Packages [450 kB]\n",
            "Get:22 http://ppa.launchpad.net/c2d4u.team/c2d4u4.0+/ubuntu bionic/main Sources [1,770 kB]\n",
            "Get:23 http://archive.ubuntu.com/ubuntu bionic-updates/main amd64 Packages [2,616 kB]\n",
            "Get:24 http://archive.ubuntu.com/ubuntu bionic-updates/restricted amd64 Packages [480 kB]\n",
            "Get:25 http://archive.ubuntu.com/ubuntu bionic-updates/multiverse amd64 Packages [33.6 kB]\n",
            "Get:26 http://ppa.launchpad.net/c2d4u.team/c2d4u4.0+/ubuntu bionic/main amd64 Packages [906 kB]\n",
            "Get:27 http://ppa.launchpad.net/deadsnakes/ppa/ubuntu bionic/main amd64 Packages [40.9 kB]\n",
            "Fetched 12.4 MB in 7s (1,733 kB/s)\n",
            "Reading package lists... Done\n",
            "Reading package lists... Done\n",
            "Building dependency tree       \n",
            "Reading state information... Done\n",
            "The following NEW packages will be installed:\n",
            "  edgetpu-compiler\n",
            "0 upgraded, 1 newly installed, 0 to remove and 46 not upgraded.\n",
            "Need to get 7,865 kB of archives.\n",
            "After this operation, 31.2 MB of additional disk space will be used.\n",
            "Get:1 https://packages.cloud.google.com/apt coral-edgetpu-stable/main amd64 edgetpu-compiler amd64 15.0 [7,865 kB]\n",
            "Fetched 7,865 kB in 1s (5,251 kB/s)\n",
            "debconf: unable to initialize frontend: Dialog\n",
            "debconf: (No usable dialog-like program is installed, so the dialog based frontend cannot be used. at /usr/share/perl5/Debconf/FrontEnd/Dialog.pm line 76, <> line 1.)\n",
            "debconf: falling back to frontend: Readline\n",
            "debconf: unable to initialize frontend: Readline\n",
            "debconf: (This frontend requires a controlling tty.)\n",
            "debconf: falling back to frontend: Teletype\n",
            "dpkg-preconfigure: unable to re-open stdin: \n",
            "Selecting previously unselected package edgetpu-compiler.\n",
            "(Reading database ... 160772 files and directories currently installed.)\n",
            "Preparing to unpack .../edgetpu-compiler_15.0_amd64.deb ...\n",
            "Unpacking edgetpu-compiler (15.0) ...\n",
            "Setting up edgetpu-compiler (15.0) ...\n",
            "Processing triggers for libc-bin (2.27-3ubuntu1.2) ...\n",
            "/sbin/ldconfig.real: /usr/local/lib/python3.7/dist-packages/ideep4py/lib/libmkldnn.so.0 is not a symbolic link\n",
            "\n",
            "Edge TPU Compiler version 15.0.340273435\n",
            "\n",
            "Model compiled successfully in 861 ms.\n",
            "\n",
            "Input model: si_limbah_quant.tflite\n",
            "Input size: 2.94MiB\n",
            "Output model: si_limbah_quant_edgetpu.tflite\n",
            "Output size: 3.12MiB\n",
            "On-chip memory used for caching model parameters: 3.33MiB\n",
            "On-chip memory remaining for caching model parameters: 4.48MiB\n",
            "Off-chip memory used for streaming uncached model parameters: 0.00B\n",
            "Number of Edge TPU subgraphs: 1\n",
            "Total number of operations: 72\n",
            "Operation log: si_limbah_quant_edgetpu.log\n",
            "See the operation log file for individual operation details.\n"
          ],
          "name": "stdout"
        }
      ]
    },
    {
      "cell_type": "markdown",
      "metadata": {
        "id": "vxU9P2rqsPTa"
      },
      "source": [
        "## Download the model"
      ]
    },
    {
      "cell_type": "markdown",
      "metadata": {
        "id": "AM63yscEsYV4"
      },
      "source": [
        "We can download the saved model, converted model, graphs and labels file from Colab. "
      ]
    },
    {
      "cell_type": "code",
      "metadata": {
        "id": "99I7ozQbsLIB"
      },
      "source": [
        "from google.colab import files\n",
        "\n",
        "files.download('/content/si_limbah.h5')\n",
        "files.download('si_limbah.tflite')\n",
        "files.download('si_limbah_quant.tflite')\n",
        "files.download('si_limbah_quant_edgetpu.log')\n",
        "files.download('si_limbah_quant_edgetpu.tflite')\n",
        "files.download('graph1.png')\n",
        "files.download('graph2.png')\n",
        "files.download('labels.txt')"
      ],
      "execution_count": null,
      "outputs": []
    },
    {
      "cell_type": "code",
      "metadata": {
        "id": "3Jc0qVDDUOAr"
      },
      "source": [
        "from google.colab import drive\n",
        "drive.mount('/content/drive')"
      ],
      "execution_count": null,
      "outputs": []
    },
    {
      "cell_type": "code",
      "metadata": {
        "id": "x7_rXA6_T5Qs"
      },
      "source": [
        "! cp -R si_limbah.h5 /content/drive/MyDrive/Si-Limbah\n",
        "! cp -R si_limbah.tflite /content/drive/MyDrive/Si-Limbah\n",
        "! cp -R si_limbah_quant.tflite /content/drive/MyDrive/Si-Limbah\n",
        "! cp -R si_limbah_quant_edgetpu.log /content/drive/MyDrive/Si-Limbah\n",
        "! cp -R si_limbah_quant_edgetpu.tflite /content/drive/MyDrive/Si-Limbah\n",
        "! cp -R graph1.png /content/drive/MyDrive/Si-Limbah\n",
        "! cp -R graph2.png /content/drive/MyDrive/Si-Limbah\n",
        "! cp -R labels.txt /content/drive/MyDrive/Si-Limbah\n",
        "! cp -R /content/training_1/ /content/drive/MyDrive/Si-Limbah\n",
        "! cp -R /content/training_2/ /content/drive/MyDrive/Si-Limbah\n",
        "! cp -R /content/si_limbah/ /content/drive/MyDrive/Si-Limbah\n",
        "! cp -R kaggle.json /content/drive/MyDrive/Si-Limbah"
      ],
      "execution_count": 42,
      "outputs": []
    },
    {
      "cell_type": "markdown",
      "metadata": {
        "id": "dwmKi7j8tLNw"
      },
      "source": [
        "## Reference\n",
        "\n",
        "[Retrain Classification ptq tf2](https://colab.research.google.com/github/google-coral/tutorials/blob/master/retrain_classification_ptq_tf2.ipynb)\n",
        "\n",
        "[Transfer learning and fine-tuning](https://www.tensorflow.org/tutorials/images/transfer_learning)"
      ]
    }
  ]
}